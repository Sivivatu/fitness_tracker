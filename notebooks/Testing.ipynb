{
 "cells": [
  {
   "cell_type": "markdown",
   "metadata": {},
   "source": [
    "# Read Environment Variables"
   ]
  },
  {
   "cell_type": "code",
   "execution_count": 2,
   "metadata": {},
   "outputs": [],
   "source": [
    "import dotenv\n",
    "import os\n",
    "import logging\n",
    "import sys\n",
    "from urllib.parse import urlparse, parse_qs\n",
    "import webbrowser\n",
    "from http.server import HTTPServer, BaseHTTPRequestHandler\n",
    "from socketserver import TCPServer\n",
    "import requests"
   ]
  },
  {
   "cell_type": "code",
   "execution_count": 3,
   "metadata": {},
   "outputs": [],
   "source": [
    "logging.basicConfig(level=logging.DEBUG)\n",
    "\n",
    "# find .env automagically by walking up directories until it's found\n",
    "dotenv_path = dotenv.find_dotenv()\n",
    "\n",
    "# load up the entries as environment variables\n",
    "dotenv.load_dotenv(dotenv_path)\n",
    "\n",
    "CLIENT_ID = os.environ.get(\"MMF_CLIENT_ID\")\n",
    "CLIENT_SECRET = os.environ.get(\"MMF_CLIENT_SECRET\")\n",
    "\n",
    "if CLIENT_ID is None or CLIENT_SECRET is None:\n",
    "    print('Please ensure $MMF_CLIENT_ID and $MMF_CLIENT_SECRET environment variables are set.')\n",
    "    sys.exit(1)"
   ]
  },
  {
   "cell_type": "markdown",
   "metadata": {},
   "source": [
    "Call to mapmyapi for authentication along with a handler"
   ]
  },
  {
   "cell_type": "code",
   "execution_count": 6,
   "metadata": {},
   "outputs": [
    {
     "name": "stdout",
     "output_type": "stream",
     "text": [
      "server_address: ('localhost.mapmyapi.com', 12345)\n",
      "serving at port 12345\n"
     ]
    },
    {
     "ename": "KeyboardInterrupt",
     "evalue": "",
     "output_type": "error",
     "traceback": [
      "\u001b[1;31m---------------------------------------------------------------------------\u001b[0m",
      "\u001b[1;31mKeyboardInterrupt\u001b[0m                         Traceback (most recent call last)",
      "\u001b[1;32m<ipython-input-6-14e053128d37>\u001b[0m in \u001b[0;36m<module>\u001b[1;34m\u001b[0m\n\u001b[0;32m     26\u001b[0m \u001b[1;32mwith\u001b[0m \u001b[0mTCPServer\u001b[0m\u001b[1;33m(\u001b[0m\u001b[0mserver_address\u001b[0m\u001b[1;33m,\u001b[0m \u001b[0mAuthorizationHandler\u001b[0m\u001b[1;33m)\u001b[0m \u001b[1;32mas\u001b[0m \u001b[0mhttpd\u001b[0m\u001b[1;33m:\u001b[0m\u001b[1;33m\u001b[0m\u001b[1;33m\u001b[0m\u001b[0m\n\u001b[0;32m     27\u001b[0m     \u001b[0mprint\u001b[0m\u001b[1;33m(\u001b[0m\u001b[1;34m\"serving at port\"\u001b[0m\u001b[1;33m,\u001b[0m \u001b[1;36m12345\u001b[0m\u001b[1;33m)\u001b[0m\u001b[1;33m\u001b[0m\u001b[1;33m\u001b[0m\u001b[0m\n\u001b[1;32m---> 28\u001b[1;33m     \u001b[0mhttpd\u001b[0m\u001b[1;33m.\u001b[0m\u001b[0mserve_forever\u001b[0m\u001b[1;33m(\u001b[0m\u001b[1;33m)\u001b[0m\u001b[1;33m\u001b[0m\u001b[1;33m\u001b[0m\u001b[0m\n\u001b[0m\u001b[0;32m     29\u001b[0m \u001b[0mprint\u001b[0m\u001b[1;33m(\u001b[0m\u001b[1;34m'Now waiting for the user to authorize the application...'\u001b[0m\u001b[1;33m)\u001b[0m\u001b[1;33m\u001b[0m\u001b[1;33m\u001b[0m\u001b[0m\n\u001b[0;32m     30\u001b[0m \u001b[0mhttpd\u001b[0m\u001b[1;33m.\u001b[0m\u001b[0mhandle_request\u001b[0m\u001b[1;33m(\u001b[0m\u001b[1;33m)\u001b[0m\u001b[1;33m\u001b[0m\u001b[1;33m\u001b[0m\u001b[0m\n",
      "\u001b[1;32m~\\AppData\\Local\\conda\\conda\\envs\\fitness\\lib\\socketserver.py\u001b[0m in \u001b[0;36mserve_forever\u001b[1;34m(self, poll_interval)\u001b[0m\n\u001b[0;32m    230\u001b[0m \u001b[1;33m\u001b[0m\u001b[0m\n\u001b[0;32m    231\u001b[0m                 \u001b[1;32mwhile\u001b[0m \u001b[1;32mnot\u001b[0m \u001b[0mself\u001b[0m\u001b[1;33m.\u001b[0m\u001b[0m__shutdown_request\u001b[0m\u001b[1;33m:\u001b[0m\u001b[1;33m\u001b[0m\u001b[1;33m\u001b[0m\u001b[0m\n\u001b[1;32m--> 232\u001b[1;33m                     \u001b[0mready\u001b[0m \u001b[1;33m=\u001b[0m \u001b[0mselector\u001b[0m\u001b[1;33m.\u001b[0m\u001b[0mselect\u001b[0m\u001b[1;33m(\u001b[0m\u001b[0mpoll_interval\u001b[0m\u001b[1;33m)\u001b[0m\u001b[1;33m\u001b[0m\u001b[1;33m\u001b[0m\u001b[0m\n\u001b[0m\u001b[0;32m    233\u001b[0m                     \u001b[1;32mif\u001b[0m \u001b[0mready\u001b[0m\u001b[1;33m:\u001b[0m\u001b[1;33m\u001b[0m\u001b[1;33m\u001b[0m\u001b[0m\n\u001b[0;32m    234\u001b[0m                         \u001b[0mself\u001b[0m\u001b[1;33m.\u001b[0m\u001b[0m_handle_request_noblock\u001b[0m\u001b[1;33m(\u001b[0m\u001b[1;33m)\u001b[0m\u001b[1;33m\u001b[0m\u001b[1;33m\u001b[0m\u001b[0m\n",
      "\u001b[1;32m~\\AppData\\Local\\conda\\conda\\envs\\fitness\\lib\\selectors.py\u001b[0m in \u001b[0;36mselect\u001b[1;34m(self, timeout)\u001b[0m\n\u001b[0;32m    321\u001b[0m         \u001b[0mready\u001b[0m \u001b[1;33m=\u001b[0m \u001b[1;33m[\u001b[0m\u001b[1;33m]\u001b[0m\u001b[1;33m\u001b[0m\u001b[1;33m\u001b[0m\u001b[0m\n\u001b[0;32m    322\u001b[0m         \u001b[1;32mtry\u001b[0m\u001b[1;33m:\u001b[0m\u001b[1;33m\u001b[0m\u001b[1;33m\u001b[0m\u001b[0m\n\u001b[1;32m--> 323\u001b[1;33m             \u001b[0mr\u001b[0m\u001b[1;33m,\u001b[0m \u001b[0mw\u001b[0m\u001b[1;33m,\u001b[0m \u001b[0m_\u001b[0m \u001b[1;33m=\u001b[0m \u001b[0mself\u001b[0m\u001b[1;33m.\u001b[0m\u001b[0m_select\u001b[0m\u001b[1;33m(\u001b[0m\u001b[0mself\u001b[0m\u001b[1;33m.\u001b[0m\u001b[0m_readers\u001b[0m\u001b[1;33m,\u001b[0m \u001b[0mself\u001b[0m\u001b[1;33m.\u001b[0m\u001b[0m_writers\u001b[0m\u001b[1;33m,\u001b[0m \u001b[1;33m[\u001b[0m\u001b[1;33m]\u001b[0m\u001b[1;33m,\u001b[0m \u001b[0mtimeout\u001b[0m\u001b[1;33m)\u001b[0m\u001b[1;33m\u001b[0m\u001b[1;33m\u001b[0m\u001b[0m\n\u001b[0m\u001b[0;32m    324\u001b[0m         \u001b[1;32mexcept\u001b[0m \u001b[0mInterruptedError\u001b[0m\u001b[1;33m:\u001b[0m\u001b[1;33m\u001b[0m\u001b[1;33m\u001b[0m\u001b[0m\n\u001b[0;32m    325\u001b[0m             \u001b[1;32mreturn\u001b[0m \u001b[0mready\u001b[0m\u001b[1;33m\u001b[0m\u001b[1;33m\u001b[0m\u001b[0m\n",
      "\u001b[1;32m~\\AppData\\Local\\conda\\conda\\envs\\fitness\\lib\\selectors.py\u001b[0m in \u001b[0;36m_select\u001b[1;34m(self, r, w, _, timeout)\u001b[0m\n\u001b[0;32m    312\u001b[0m     \u001b[1;32mif\u001b[0m \u001b[0msys\u001b[0m\u001b[1;33m.\u001b[0m\u001b[0mplatform\u001b[0m \u001b[1;33m==\u001b[0m \u001b[1;34m'win32'\u001b[0m\u001b[1;33m:\u001b[0m\u001b[1;33m\u001b[0m\u001b[1;33m\u001b[0m\u001b[0m\n\u001b[0;32m    313\u001b[0m         \u001b[1;32mdef\u001b[0m \u001b[0m_select\u001b[0m\u001b[1;33m(\u001b[0m\u001b[0mself\u001b[0m\u001b[1;33m,\u001b[0m \u001b[0mr\u001b[0m\u001b[1;33m,\u001b[0m \u001b[0mw\u001b[0m\u001b[1;33m,\u001b[0m \u001b[0m_\u001b[0m\u001b[1;33m,\u001b[0m \u001b[0mtimeout\u001b[0m\u001b[1;33m=\u001b[0m\u001b[1;32mNone\u001b[0m\u001b[1;33m)\u001b[0m\u001b[1;33m:\u001b[0m\u001b[1;33m\u001b[0m\u001b[1;33m\u001b[0m\u001b[0m\n\u001b[1;32m--> 314\u001b[1;33m             \u001b[0mr\u001b[0m\u001b[1;33m,\u001b[0m \u001b[0mw\u001b[0m\u001b[1;33m,\u001b[0m \u001b[0mx\u001b[0m \u001b[1;33m=\u001b[0m \u001b[0mselect\u001b[0m\u001b[1;33m.\u001b[0m\u001b[0mselect\u001b[0m\u001b[1;33m(\u001b[0m\u001b[0mr\u001b[0m\u001b[1;33m,\u001b[0m \u001b[0mw\u001b[0m\u001b[1;33m,\u001b[0m \u001b[0mw\u001b[0m\u001b[1;33m,\u001b[0m \u001b[0mtimeout\u001b[0m\u001b[1;33m)\u001b[0m\u001b[1;33m\u001b[0m\u001b[1;33m\u001b[0m\u001b[0m\n\u001b[0m\u001b[0;32m    315\u001b[0m             \u001b[1;32mreturn\u001b[0m \u001b[0mr\u001b[0m\u001b[1;33m,\u001b[0m \u001b[0mw\u001b[0m \u001b[1;33m+\u001b[0m \u001b[0mx\u001b[0m\u001b[1;33m,\u001b[0m \u001b[1;33m[\u001b[0m\u001b[1;33m]\u001b[0m\u001b[1;33m\u001b[0m\u001b[1;33m\u001b[0m\u001b[0m\n\u001b[0;32m    316\u001b[0m     \u001b[1;32melse\u001b[0m\u001b[1;33m:\u001b[0m\u001b[1;33m\u001b[0m\u001b[1;33m\u001b[0m\u001b[0m\n",
      "\u001b[1;31mKeyboardInterrupt\u001b[0m: "
     ]
    }
   ],
   "source": [
    "# As a convenience, localhost.mapmyapi.com redirects to localhost.\n",
    "redirect_uri = 'http://localhost.mapmyapi.com:12345/callback'\n",
    "authorize_url = 'https://api.mapmyfitness.com/v7.1/oauth2/authorize/?client_id={0}&response_type=code&redirect_uri={1}'.format(CLIENT_ID, redirect_uri)\n",
    "\n",
    "# Set up a basic handler for the redirect issued by the MapMyFitness\n",
    "# authorize page. For any GET request, it simply returns a 200.\n",
    "# When run interactively, the request's URL will be printed out.\n",
    "class AuthorizationHandler(BaseHTTPRequestHandler):\n",
    "    def do_GET(self):\n",
    "        self.send_response(200, 'OK')\n",
    "        self.send_header('Content-Type', 'text/html')\n",
    "        self.end_headers()\n",
    "        self.server.path = self.path\n",
    "\n",
    "\n",
    "parsed_redirect_uri = urlparse(redirect_uri)\n",
    "server_address = parsed_redirect_uri.hostname, parsed_redirect_uri.port\n",
    "\n",
    "print('server_address:', server_address)\n",
    "\n",
    "# NOTE: Don't go to the web browser just yet...\n",
    "webbrowser.open(authorize_url)\n",
    "\n",
    "# Start our web server. handle_request() will block until a request comes in.\n",
    "#httpd = HTTPServer(server_address, AuthorizationHandler)\n",
    "with TCPServer(server_address, AuthorizationHandler) as httpd:\n",
    "    print(\"serving at port\", 12345)\n",
    "    httpd.serve_forever()\n",
    "print('Now waiting for the user to authorize the application...')\n",
    "httpd.handle_request()\n",
    "# At this point a request has been handled. Let's parse its URL.\n",
    "httpd.server_close()\n",
    "callback_url = urlparse(httpd.path)\n",
    "authorize_code = parse_qs(callback_url.query)['code'][0]\n",
    "\n",
    "print('Got an authorize code:', authorize_code)\n",
    "\n",
    "access_token_url = 'https://api.mapmyfitness.com/v7.1/oauth2/access_token/'\n",
    "access_token_data = {'grant_type': 'authorization_code',\n",
    "                     'client_id': CLIENT_ID,\n",
    "                     'client_secret': CLIENT_SECRET,\n",
    "                     'code': authorize_code}\n",
    "\n",
    "response = requests.post(url=access_token_url,\n",
    "                         data=access_token_data,\n",
    "                         headers={'Api-Key': CLIENT_ID})\n",
    "\n",
    "print('Request details:')\n",
    "print('Content-Type:', response.request.headers['Content-Type'])\n",
    "print('Request body:', response.request.body)\n",
    "\n",
    "# retrieve the access_token from the response\n",
    "try:\n",
    "    access_token = response.json()\n",
    "    print('Got an access token:', access_token)\n",
    "except:\n",
    "    print('Did not get JSON. Here is the response and content:')\n",
    "    print(response)\n",
    "    print(response.content)\n",
    "\n",
    "# Use the access token to request a resource on behalf of the user\n",
    "activity_type_url = 'https://api.ua.com/v7.1/activity_type/'\n",
    "response = requests.get(url=activity_type_url, verify=False,\n",
    "                        headers={'api-key': CLIENT_ID, 'authorization': 'Bearer %s' % access_token['access_token']})\n",
    "\n",
    "# Refresh a client's credentials to prevent expiration\n",
    "refresh_token_url = 'https://api.ua.com/v7.1/oauth2/access_token/'\n",
    "refresh_token_data = {'grant_type': 'refresh_token',\n",
    "                      'client_id': CLIENT_ID,\n",
    "                      'client_secret': CLIENT_SECRET,\n",
    "                      'refresh_token': access_token['refresh_token']}\n",
    "\n",
    "response = requests.post(url=refresh_token_url, data=refresh_token_data,\n",
    "                         headers={'api-key': CLIENT_ID, 'authorization': 'Bearer %s' % access_token['access_token']})\n",
    "\n",
    "print('Request details:')\n",
    "print('Content-Type:', response.request.headers['Content-Type'])\n",
    "print('Request body:', response.request.body)\n",
    "\n",
    "try:\n",
    "    access_token = response.json()\n",
    "    print('Got an access token:', access_token)\n",
    "except:\n",
    "    print('Did not get JSON. Here is the response and content:')\n",
    "    print(response)\n",
    "    print(response.content)\n",
    "\n",
    "# Attempt another request on the user's behalf using the token\n",
    "refresh_token = response.json()\n",
    "response = requests.get(url=activity_type_url, verify=False,\n",
    "                        headers={'api-key': CLIENT_ID, 'authorization': 'Bearer %s' % access_token['access_token']})"
   ]
  },
  {
   "cell_type": "code",
   "execution_count": null,
   "metadata": {},
   "outputs": [],
   "source": []
  }
 ],
 "metadata": {
  "kernelspec": {
   "display_name": "Python 3",
   "language": "python",
   "name": "python3"
  },
  "language_info": {
   "codemirror_mode": {
    "name": "ipython",
    "version": 3
   },
   "file_extension": ".py",
   "mimetype": "text/x-python",
   "name": "python",
   "nbconvert_exporter": "python",
   "pygments_lexer": "ipython3",
   "version": "3.7.1"
  }
 },
 "nbformat": 4,
 "nbformat_minor": 2
}
